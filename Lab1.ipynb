{
  "nbformat": 4,
  "nbformat_minor": 0,
  "metadata": {
    "colab": {
      "provenance": [],
      "include_colab_link": true
    },
    "kernelspec": {
      "name": "python3",
      "display_name": "Python 3"
    },
    "language_info": {
      "name": "python"
    }
  },
  "cells": [
    {
      "cell_type": "markdown",
      "metadata": {
        "id": "view-in-github",
        "colab_type": "text"
      },
      "source": [
        "<a href=\"https://colab.research.google.com/github/aayu5hgit/Applied-Data-Science-Lab/blob/main/Lab1.ipynb\" target=\"_parent\"><img src=\"https://colab.research.google.com/assets/colab-badge.svg\" alt=\"Open In Colab\"/></a>"
      ]
    },
    {
      "cell_type": "markdown",
      "source": [
        "**AIM :** Explore the descriptive and inferential statistics on the given dataset."
      ],
      "metadata": {
        "id": "QUyLMLqHTvFa"
      }
    },
    {
      "cell_type": "markdown",
      "source": [
        "## **Step - 1 : Data Collection**"
      ],
      "metadata": {
        "id": "zVUYiG8ZZ_e3"
      }
    },
    {
      "cell_type": "markdown",
      "source": [
        "**a. Download the Datasets from Kaggle / UCI Repository**\n",
        "1. [Customer Segmentation Dataset from Kaggle](https://www.kaggle.com/code/fabiendaniel/customer-segmentation/input)\n",
        "2. [Credit Card Fraud Detection Dataset from Kaggle](https://www.kaggle.com/datasets/mlg-ulb/creditcardfraud)\n",
        "\n",
        "**b. Create Dataset for the following:**\n",
        "- - 360 degree Student Portfolio Dataset\n",
        "- - - ***For example***: Username, Name,\tDivision,\tRoll No, Age, Gender,\tDate of Birth,\tAddress, Contact No, 10th %,\t12th %,\tCGPA,\tDisability,\tFurther Preference: Job / Higher Studies,\tTechnical Skills : Java,\tPython,\tDSA,\tOS,\tDBMS,\tCommunication,skills,\tPresentation skills,\tCreativity :\tSinging,\tDance,\tNumber of internships,\tNumber of certification courses,\tName of the certification courses,\tMember of a technical society,\tMember of Non Technical society\n",
        "-- Student feedback\n"
      ],
      "metadata": {
        "id": "D2OYnQscUmF5"
      }
    },
    {
      "cell_type": "markdown",
      "source": [
        "## **Step - 2 : Perform Descriptive Analysis**"
      ],
      "metadata": {
        "id": "_crFhXQvaCm_"
      }
    },
    {
      "cell_type": "markdown",
      "source": [
        "**Descriptive Statistics**\n",
        "* focuses on describing and summarizing the main features of a data set.\n",
        "* used to organize, display, and interpret numerical and categorical data.\n",
        "* includes measures of central tendency, such as mean, median, and mode, which describe the typical value or center of a data set.\n",
        "* It also includes measures of variability, such as range, variance, and standard deviation, which describe how spread out the data is.\n",
        "* used to describe the distribution of a data set, such as whether it is symmetrical or skewed.\n",
        "* also be used to identify any outliers or unusual observations in the data.\n",
        "* used in various fields, such as business, medicine, social sciences, and more, to understand and analyze data.\n",
        "* describes the characteristics of a data set.\n",
        "* It is a simple technique to describe, show and summarize data in a meaningful way.\n",
        "* involves taking a potentially sizable number of data points in the sample data and reducing them to certain meaningful summary values and graphs.\n",
        "* The process allows you to obtain **insights and visualize the data.**"
      ],
      "metadata": {
        "id": "OYf6gtitaHFH"
      }
    },
    {
      "cell_type": "markdown",
      "source": [
        "**Descriptive Statistics Measures**\n",
        "1. Distribution :\n",
        "- shows us the frequency of different outcomes (or data points) in a population or sample.\n",
        "- We can show it as numbers in a list or table, or we can represent it graphically.\n",
        "2. Central tendency\n",
        "- Common measures of central tendency include:\n",
        "- - **mean**: average value of all the data points.\n",
        "- - **median**: central or middle value in the dataset.\n",
        "- - ** mode**: value that appears most often in the dataset.\n",
        "3. Variability\n",
        "- Common measures of variability include:\n",
        "- - **Standard deviation** shows us the amount of variation or dispersion.\n",
        "- - - Low standard deviation ==> most values are close to the mean.\n",
        "- - - High standard deviation ==> the values are more broadly spread out.\n",
        "- - **Minimum** and **maximum** values are the highest and lowest values in a dataset or quartile.\n",
        "- - **Range** measures the size of the distribution of values.\n",
        "- - - This can be easily determined by subtracting the smallest value from the largest.\n",
        "- - **Kurtosis**: measures whether or not the tails of a given distribution contain extreme values (also known as **outliers**).\n",
        "- - - If a tail lacks outliers ==> low kurtosis.\n",
        "- - - If a dataset has a lot of outliers ==> high kurtosis.\n",
        "4. Skewness: measure of a datasets symmetry.\n",
        "- If you were to plot a bell-curve and the right-hand tail was longer and fatter ==> positive skewness. \\\n",
        "- If the left-hand tail is longer and fatter ==> negative skewness.\n",
        "\n"
      ],
      "metadata": {
        "id": "AlvI6qefV32w"
      }
    },
    {
      "cell_type": "markdown",
      "source": [
        "## **Step - 3: Perform Inferential Analysis**"
      ],
      "metadata": {
        "id": "4si9NnesaJz3"
      }
    },
    {
      "cell_type": "markdown",
      "source": [
        "**Inferential statistics**\n",
        "- focus on making generalizations about a larger population based on a representative sample of that population.\n",
        "- focuses on making predictions (rather than stating facts) its results are usually in the form of a probability.\n",
        "- helps to draw conclusions and make predictions based on a data set. It is done using several techniques, methods, and types of calculations.\n",
        "- Some of the most important types of inferential statistics calculations are:\n",
        "1. Regression Analysis\n",
        "- show the relationship between a set of independent variables and a dependent variable.\n",
        "- predict the value of the dependent variable based on different values of the independent variables.\n",
        "2. Hypothesis tests\n",
        "- to determine whether the relationships observed in sample data actually exist in the data set."
      ],
      "metadata": {
        "id": "MKE2EjcWZ2IX"
      }
    },
    {
      "cell_type": "markdown",
      "source": [
        "## **Descriptive Analysis**"
      ],
      "metadata": {
        "id": "mg2ZhK4Rp52z"
      }
    },
    {
      "cell_type": "code",
      "source": [
        "import pandas as pd\n",
        "import matplotlib.pyplot as plt\n",
        "import seaborn as sns\n",
        "\n",
        "df = pd.read_csv('/content/customer_segmentation.csv', encoding='unicode_escape')\n",
        "\n",
        "print(df.head())\n"
      ],
      "metadata": {
        "colab": {
          "base_uri": "https://localhost:8080/"
        },
        "id": "MFMfZrKcn13G",
        "outputId": "093452d5-a491-4e07-f279-da629cd3e410"
      },
      "execution_count": 8,
      "outputs": [
        {
          "output_type": "stream",
          "name": "stdout",
          "text": [
            "  InvoiceNo StockCode                          Description  Quantity  \\\n",
            "0    536365    85123A   WHITE HANGING HEART T-LIGHT HOLDER         6   \n",
            "1    536365     71053                  WHITE METAL LANTERN         6   \n",
            "2    536365    84406B       CREAM CUPID HEARTS COAT HANGER         8   \n",
            "3    536365    84029G  KNITTED UNION FLAG HOT WATER BOTTLE         6   \n",
            "4    536365    84029E       RED WOOLLY HOTTIE WHITE HEART.         6   \n",
            "\n",
            "      InvoiceDate  UnitPrice  CustomerID         Country  \n",
            "0  12/1/2010 8:26       2.55     17850.0  United Kingdom  \n",
            "1  12/1/2010 8:26       3.39     17850.0  United Kingdom  \n",
            "2  12/1/2010 8:26       2.75     17850.0  United Kingdom  \n",
            "3  12/1/2010 8:26       3.39     17850.0  United Kingdom  \n",
            "4  12/1/2010 8:26       3.39     17850.0  United Kingdom  \n"
          ]
        }
      ]
    },
    {
      "cell_type": "code",
      "source": [
        "# Distribution\n",
        "country_distribution = df['Country'].value_counts()\n",
        "print(\"\\nCountry Distribution:\")\n",
        "print(country_distribution)"
      ],
      "metadata": {
        "colab": {
          "base_uri": "https://localhost:8080/"
        },
        "id": "FJDWUIWkn6pA",
        "outputId": "362b0f7b-c154-4fef-d222-19b965fbdbfd"
      },
      "execution_count": 9,
      "outputs": [
        {
          "output_type": "stream",
          "name": "stdout",
          "text": [
            "\n",
            "Country Distribution:\n",
            "United Kingdom          495478\n",
            "Germany                   9495\n",
            "France                    8557\n",
            "EIRE                      8196\n",
            "Spain                     2533\n",
            "Netherlands               2371\n",
            "Belgium                   2069\n",
            "Switzerland               2002\n",
            "Portugal                  1519\n",
            "Australia                 1259\n",
            "Norway                    1086\n",
            "Italy                      803\n",
            "Channel Islands            758\n",
            "Finland                    695\n",
            "Cyprus                     622\n",
            "Sweden                     462\n",
            "Unspecified                446\n",
            "Austria                    401\n",
            "Denmark                    389\n",
            "Japan                      358\n",
            "Poland                     341\n",
            "Israel                     297\n",
            "USA                        291\n",
            "Hong Kong                  288\n",
            "Singapore                  229\n",
            "Iceland                    182\n",
            "Canada                     151\n",
            "Greece                     146\n",
            "Malta                      127\n",
            "United Arab Emirates        68\n",
            "European Community          61\n",
            "RSA                         58\n",
            "Lebanon                     45\n",
            "Lithuania                   35\n",
            "Brazil                      32\n",
            "Czech Republic              30\n",
            "Bahrain                     19\n",
            "Saudi Arabia                10\n",
            "Name: Country, dtype: int64\n"
          ]
        }
      ]
    },
    {
      "cell_type": "code",
      "source": [
        "# Central Tendency (Quantity)\n",
        "mean_quantity = df['Quantity'].mean()\n",
        "median_quantity = df['Quantity'].median()\n",
        "mode_quantity = df['Quantity'].mode().iloc[0]\n",
        "print(\"\\nMean Quantity:\", mean_quantity)\n",
        "print(\"Median Quantity:\", median_quantity)\n",
        "print(\"Mode Quantity:\", mode_quantity)"
      ],
      "metadata": {
        "colab": {
          "base_uri": "https://localhost:8080/"
        },
        "id": "paiFAB39n9TS",
        "outputId": "d7dc10be-b7bd-4b34-a5af-6f5bb00a5978"
      },
      "execution_count": 10,
      "outputs": [
        {
          "output_type": "stream",
          "name": "stdout",
          "text": [
            "\n",
            "Mean Quantity: 9.55224954743324\n",
            "Median Quantity: 3.0\n",
            "Mode Quantity: 1\n"
          ]
        }
      ]
    },
    {
      "cell_type": "code",
      "source": [
        "# Central Tendency (UnitPrice)\n",
        "mean_quantity = df['UnitPrice'].mean()\n",
        "median_quantity = df['UnitPrice'].median()\n",
        "mode_quantity = df['UnitPrice'].mode().iloc[0]\n",
        "print(\"\\nMean UnitPrice:\", mean_quantity)\n",
        "print(\"Median UnitPrice:\", median_quantity)\n",
        "print(\"Mode UnitPrice:\", mode_quantity)"
      ],
      "metadata": {
        "colab": {
          "base_uri": "https://localhost:8080/"
        },
        "id": "KOZktgDJrhhI",
        "outputId": "5130218c-be88-4b6d-9ac2-9830a433c51b"
      },
      "execution_count": 15,
      "outputs": [
        {
          "output_type": "stream",
          "name": "stdout",
          "text": [
            "\n",
            "Mean UnitPrice: 4.611113626088513\n",
            "Median UnitPrice: 2.08\n",
            "Mode UnitPrice: 1.25\n"
          ]
        }
      ]
    },
    {
      "cell_type": "code",
      "source": [
        "# Variability (Quantity)\n",
        "std_dev_quantity = df['Quantity'].std()\n",
        "min_quantity = df['Quantity'].min()\n",
        "max_quantity = df['Quantity'].max()\n",
        "range_quantity = max_quantity - min_quantity\n",
        "print(\"\\nStandard Deviation of Quantity:\", std_dev_quantity)\n",
        "print(\"Min Quantity:\", min_quantity)\n",
        "print(\"Max Quantity:\", max_quantity)\n",
        "print(\"Range of Quantity:\", range_quantity)"
      ],
      "metadata": {
        "colab": {
          "base_uri": "https://localhost:8080/"
        },
        "id": "VaXLcO6Zn-u-",
        "outputId": "5360fd6b-93bd-4c68-ea59-b107bfc1ac48"
      },
      "execution_count": 11,
      "outputs": [
        {
          "output_type": "stream",
          "name": "stdout",
          "text": [
            "\n",
            "Standard Deviation of Quantity: 218.08115785023384\n",
            "Min Quantity: -80995\n",
            "Max Quantity: 80995\n",
            "Range of Quantity: 161990\n"
          ]
        }
      ]
    },
    {
      "cell_type": "code",
      "source": [
        "# Variability (UnitPrice)\n",
        "std_dev_quantity = df['UnitPrice'].std()\n",
        "min_quantity = df['UnitPrice'].min()\n",
        "max_quantity = df['UnitPrice'].max()\n",
        "range_quantity = max_quantity - min_quantity\n",
        "print(\"\\nStandard Deviation of UnitPrice:\", std_dev_quantity)\n",
        "print(\"Min UnitPrice:\", min_quantity)\n",
        "print(\"Max UnitPrice:\", max_quantity)\n",
        "print(\"Range of UnitPrice:\", range_quantity)"
      ],
      "metadata": {
        "colab": {
          "base_uri": "https://localhost:8080/"
        },
        "id": "8qyvCBx2ro9u",
        "outputId": "2eceea8f-e927-46ab-a467-6013616da0c2"
      },
      "execution_count": 16,
      "outputs": [
        {
          "output_type": "stream",
          "name": "stdout",
          "text": [
            "\n",
            "Standard Deviation of UnitPrice: 96.75985306117938\n",
            "Min UnitPrice: -11062.06\n",
            "Max UnitPrice: 38970.0\n",
            "Range of UnitPrice: 50032.06\n"
          ]
        }
      ]
    },
    {
      "cell_type": "code",
      "source": [
        "# Kurtosis and Skewness\n",
        "kurtosis_quantity = df['Quantity'].kurtosis()\n",
        "skewness_quantity = df['Quantity'].skew()\n",
        "print(\"\\nKurtosis of Quantity:\", kurtosis_quantity)\n",
        "print(\"Skewness of Quantity:\", skewness_quantity)"
      ],
      "metadata": {
        "colab": {
          "base_uri": "https://localhost:8080/"
        },
        "id": "ro1a95h-oAI9",
        "outputId": "636b18cf-3afd-4c61-c728-753b8b7ae16c"
      },
      "execution_count": 12,
      "outputs": [
        {
          "output_type": "stream",
          "name": "stdout",
          "text": [
            "\n",
            "Kurtosis of Quantity: 119769.16003068598\n",
            "Skewness of Quantity: -0.2640763070668848\n"
          ]
        }
      ]
    },
    {
      "cell_type": "code",
      "source": [
        "# Visualize distribution using a histogram\n",
        "plt.figure(figsize=(5, 5))\n",
        "sns.histplot(df['Quantity'], bins=5, kde=True, color='skyblue')\n",
        "plt.title('Distribution of Quantity')\n",
        "plt.xlabel('Quantity')\n",
        "plt.ylabel('Frequency')\n",
        "plt.show()"
      ],
      "metadata": {
        "colab": {
          "base_uri": "https://localhost:8080/",
          "height": 487
        },
        "id": "8axpzj2uoBbg",
        "outputId": "bc9eff20-00b4-4c90-9d54-c78a94388f87"
      },
      "execution_count": 21,
      "outputs": [
        {
          "output_type": "display_data",
          "data": {
            "text/plain": [
              "<Figure size 500x500 with 1 Axes>"
            ],
            "image/png": "[encoded data removed]"
          },
          "metadata": {}
        }
      ]
    },
    {
      "cell_type": "code",
      "source": [
        "# Visualize distribution using a histogram\n",
        "plt.figure(figsize=(5, 4))\n",
        "sns.histplot(df['UnitPrice'], bins=30, kde=True, color='skyblue')\n",
        "plt.title('Distribution of UnitPrice')\n",
        "plt.xlabel('UnitPrice')\n",
        "plt.ylabel('Frequency')\n",
        "plt.show()"
      ],
      "metadata": {
        "colab": {
          "base_uri": "https://localhost:8080/",
          "height": 410
        },
        "id": "BOGBMYDDr2Yn",
        "outputId": "5dce68fb-a92b-4066-a493-f7b1d77ebe83"
      },
      "execution_count": 18,
      "outputs": [
        {
          "output_type": "display_data",
          "data": {
            "text/plain": [
              "<Figure size 500x400 with 1 Axes>"
            ],
            "image/png": "[encoded data removed]"
          },
          "metadata": {}
        }
      ]
    }
  ]
}